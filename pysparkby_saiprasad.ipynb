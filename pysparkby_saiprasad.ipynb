{
  "nbformat": 4,
  "nbformat_minor": 0,
  "metadata": {
    "colab": {
      "provenance": []
    },
    "kernelspec": {
      "name": "python3",
      "display_name": "Python 3"
    },
    "language_info": {
      "name": "python"
    }
  },
  "cells": [
    {
      "cell_type": "markdown",
      "source": [
        "#how to read csv file as a spark dataframe.."
      ],
      "metadata": {
        "id": "KF1YYJNu0Vad"
      }
    },
    {
      "cell_type": "code",
      "execution_count": null,
      "metadata": {
        "id": "7_Ja5AiOdeQc",
        "colab": {
          "base_uri": "https://localhost:8080/"
        },
        "outputId": "32e8d067-2160-4272-a3f1-1dbfd35ec716"
      },
      "outputs": [
        {
          "output_type": "stream",
          "name": "stdout",
          "text": [
            "Looking in indexes: https://pypi.org/simple, https://us-python.pkg.dev/colab-wheels/public/simple/\n",
            "Collecting pyspark\n",
            "  Downloading pyspark-3.3.0.tar.gz (281.3 MB)\n",
            "\u001b[K     |████████████████████████████████| 281.3 MB 44 kB/s \n",
            "\u001b[?25hCollecting py4j==0.10.9.5\n",
            "  Downloading py4j-0.10.9.5-py2.py3-none-any.whl (199 kB)\n",
            "\u001b[K     |████████████████████████████████| 199 kB 46.9 MB/s \n",
            "\u001b[?25hBuilding wheels for collected packages: pyspark\n",
            "  Building wheel for pyspark (setup.py) ... \u001b[?25l\u001b[?25hdone\n",
            "  Created wheel for pyspark: filename=pyspark-3.3.0-py2.py3-none-any.whl size=281764026 sha256=a852c809176ea5703b9466766525debf046a93f3786a98d59e405bc6317ed16b\n",
            "  Stored in directory: /root/.cache/pip/wheels/7a/8e/1b/f73a52650d2e5f337708d9f6a1750d451a7349a867f928b885\n",
            "Successfully built pyspark\n",
            "Installing collected packages: py4j, pyspark\n",
            "Successfully installed py4j-0.10.9.5 pyspark-3.3.0\n"
          ]
        }
      ],
      "source": [
        "pip install pyspark"
      ]
    },
    {
      "cell_type": "code",
      "source": [
        "#Initializing PySpark\n",
        "from pyspark import SparkContext, SparkConf\n",
        "from pyspark.sql import SparkSession\n",
        "from pyspark.sql import SQLContext\n",
        "# #Spark Config\n",
        "conf = SparkConf().setAppName(\"sample_app\")\n",
        "sc = SparkContext(conf=conf)\n",
        "spark = SparkSession.builder.appName('write').getOrCreate()\n",
        "sqlContext = SQLContext(sc)"
      ],
      "metadata": {
        "colab": {
          "base_uri": "https://localhost:8080/"
        },
        "id": "N554v6kq0uy_",
        "outputId": "9b196128-dfa5-4354-8c52-b1498ebcb8eb"
      },
      "execution_count": null,
      "outputs": [
        {
          "output_type": "stream",
          "name": "stderr",
          "text": [
            "/usr/local/lib/python3.7/dist-packages/pyspark/sql/context.py:114: FutureWarning: Deprecated in 3.0.0. Use SparkSession.builder.getOrCreate() instead.\n",
            "  FutureWarning,\n"
          ]
        }
      ]
    },
    {
      "cell_type": "code",
      "source": [
        "sc"
      ],
      "metadata": {
        "colab": {
          "base_uri": "https://localhost:8080/",
          "height": 199
        },
        "id": "hLMEzmNZ1GYt",
        "outputId": "e4b2bc7e-d460-40e4-fdbd-174579fef95d"
      },
      "execution_count": null,
      "outputs": [
        {
          "output_type": "execute_result",
          "data": {
            "text/plain": [
              "<SparkContext master=local[*] appName=sample_app>"
            ],
            "text/html": [
              "\n",
              "        <div>\n",
              "            <p><b>SparkContext</b></p>\n",
              "\n",
              "            <p><a href=\"http://ac6b22608415:4040\">Spark UI</a></p>\n",
              "\n",
              "            <dl>\n",
              "              <dt>Version</dt>\n",
              "                <dd><code>v3.3.0</code></dd>\n",
              "              <dt>Master</dt>\n",
              "                <dd><code>local[*]</code></dd>\n",
              "              <dt>AppName</dt>\n",
              "                <dd><code>sample_app</code></dd>\n",
              "            </dl>\n",
              "        </div>\n",
              "        "
            ]
          },
          "metadata": {},
          "execution_count": 3
        }
      ]
    },
    {
      "cell_type": "code",
      "source": [
        "df=spark.read.csv(\"/content/input.csv\",inferSchema=True,header=True)\n",
        "df.show()"
      ],
      "metadata": {
        "colab": {
          "base_uri": "https://localhost:8080/"
        },
        "id": "LM7duk1n1HBw",
        "outputId": "683b1922-b124-4c15-8d56-66a41a2cb871"
      },
      "execution_count": null,
      "outputs": [
        {
          "output_type": "stream",
          "name": "stdout",
          "text": [
            "+---+-------+---+------+\n",
            "| id|   name|sex|salary|\n",
            "+---+-------+---+------+\n",
            "|  1|    Tom|  M|   100|\n",
            "|  2|  Jenny|  F|   150|\n",
            "|  3| Andrew|  F|    50|\n",
            "|  4|Michael|  F|   120|\n",
            "+---+-------+---+------+\n",
            "\n"
          ]
        }
      ]
    },
    {
      "cell_type": "markdown",
      "source": [
        "#read csv with | delimiter..."
      ],
      "metadata": {
        "id": "y60i5vwd2pxk"
      }
    },
    {
      "cell_type": "code",
      "source": [
        "df=spark.read.options(delimiter=\"|\").csv(\"/content/input.csv\",inferSchema=True,header=True)\n",
        "df.show()"
      ],
      "metadata": {
        "colab": {
          "base_uri": "https://localhost:8080/"
        },
        "id": "LGGMIMR91c4t",
        "outputId": "e0333bd0-ac4b-4253-e0f1-d668e774508e"
      },
      "execution_count": null,
      "outputs": [
        {
          "output_type": "stream",
          "name": "stdout",
          "text": [
            "+---+-------+---+------+\n",
            "| id|   name|sex|salary|\n",
            "+---+-------+---+------+\n",
            "|  1|    Tom|  M|   100|\n",
            "|  2|  Jenny|  F|   150|\n",
            "|  3| Andrew|  F|    50|\n",
            "|  4|Michael|  F|   120|\n",
            "+---+-------+---+------+\n",
            "\n"
          ]
        }
      ]
    },
    {
      "cell_type": "markdown",
      "source": [
        "#getting column names"
      ],
      "metadata": {
        "id": "vNE2qj2F4vqa"
      }
    },
    {
      "cell_type": "code",
      "source": [
        "df.columns"
      ],
      "metadata": {
        "colab": {
          "base_uri": "https://localhost:8080/"
        },
        "id": "7CEGbZLY4y3f",
        "outputId": "a352f203-d457-443e-df3e-82a064953580"
      },
      "execution_count": null,
      "outputs": [
        {
          "output_type": "execute_result",
          "data": {
            "text/plain": [
              "['id', 'name', 'sex', 'salary']"
            ]
          },
          "metadata": {},
          "execution_count": 20
        }
      ]
    },
    {
      "cell_type": "markdown",
      "source": [
        "#getting datatypes of columns"
      ],
      "metadata": {
        "id": "olwV7bSD43Q1"
      }
    },
    {
      "cell_type": "code",
      "source": [
        "df.dtypes"
      ],
      "metadata": {
        "colab": {
          "base_uri": "https://localhost:8080/"
        },
        "id": "zdNRgtMf468H",
        "outputId": "5fb87579-f21c-4453-c8c5-80ae38c019eb"
      },
      "execution_count": null,
      "outputs": [
        {
          "output_type": "execute_result",
          "data": {
            "text/plain": [
              "[('id', 'int'), ('name', 'string'), ('sex', 'string'), ('salary', 'int')]"
            ]
          },
          "metadata": {},
          "execution_count": 21
        }
      ]
    },
    {
      "cell_type": "markdown",
      "source": [
        "#getting complete info of the columns "
      ],
      "metadata": {
        "id": "GqtvuqbQ4_Mp"
      }
    },
    {
      "cell_type": "code",
      "source": [
        "df.printSchema()"
      ],
      "metadata": {
        "colab": {
          "base_uri": "https://localhost:8080/"
        },
        "id": "7tceq0oZ3nGc",
        "outputId": "e51d3e94-e1bf-400b-86ef-723ad5887bc9"
      },
      "execution_count": null,
      "outputs": [
        {
          "output_type": "stream",
          "name": "stdout",
          "text": [
            "root\n",
            " |-- id: integer (nullable = true)\n",
            " |-- name: string (nullable = true)\n",
            " |-- sex: string (nullable = true)\n",
            " |-- salary: integer (nullable = true)\n",
            "\n"
          ]
        }
      ]
    },
    {
      "cell_type": "markdown",
      "source": [
        "#select specific columns from dataframe"
      ],
      "metadata": {
        "id": "82_EzchL4AVt"
      }
    },
    {
      "cell_type": "code",
      "source": [
        "df.select(\"id\",\"sex\").show()"
      ],
      "metadata": {
        "colab": {
          "base_uri": "https://localhost:8080/"
        },
        "id": "cnepu3qX3zKe",
        "outputId": "f66c0ae0-3d19-4bcc-8a9a-dd2bea700ae5"
      },
      "execution_count": null,
      "outputs": [
        {
          "output_type": "stream",
          "name": "stdout",
          "text": [
            "+---+---+\n",
            "| id|sex|\n",
            "+---+---+\n",
            "|  1|  M|\n",
            "|  2|  F|\n",
            "|  3|  F|\n",
            "|  4|  F|\n",
            "+---+---+\n",
            "\n"
          ]
        }
      ]
    },
    {
      "cell_type": "markdown",
      "source": [
        "#select columns based on list provided"
      ],
      "metadata": {
        "id": "8Ky6X0eB4VzC"
      }
    },
    {
      "cell_type": "code",
      "source": [
        "col_list=[\"id\",\"name\",\"salary\"]\n",
        "df.select(col_list).show()"
      ],
      "metadata": {
        "colab": {
          "base_uri": "https://localhost:8080/"
        },
        "id": "iG7UYEpI4OXJ",
        "outputId": "2e41e13c-9379-4ca3-cc7d-6f27c6a18060"
      },
      "execution_count": null,
      "outputs": [
        {
          "output_type": "stream",
          "name": "stdout",
          "text": [
            "+---+-------+------+\n",
            "| id|   name|salary|\n",
            "+---+-------+------+\n",
            "|  1|    Tom|   100|\n",
            "|  2|  Jenny|   150|\n",
            "|  3| Andrew|    50|\n",
            "|  4|Michael|   120|\n",
            "+---+-------+------+\n",
            "\n"
          ]
        }
      ]
    },
    {
      "cell_type": "markdown",
      "source": [
        "#select all columns from dataframe"
      ],
      "metadata": {
        "id": "5bjBW-Mh5HHt"
      }
    },
    {
      "cell_type": "code",
      "source": [
        "df.select(df.columns).show()"
      ],
      "metadata": {
        "colab": {
          "base_uri": "https://localhost:8080/"
        },
        "id": "OckF3YFk4lyC",
        "outputId": "68952c95-2fab-4bec-eacf-bc8cb093b725"
      },
      "execution_count": null,
      "outputs": [
        {
          "output_type": "stream",
          "name": "stdout",
          "text": [
            "+---+-------+---+------+\n",
            "| id|   name|sex|salary|\n",
            "+---+-------+---+------+\n",
            "|  1|    Tom|  M|   100|\n",
            "|  2|  Jenny|  F|   150|\n",
            "|  3| Andrew|  F|    50|\n",
            "|  4|Michael|  F|   120|\n",
            "+---+-------+---+------+\n",
            "\n"
          ]
        }
      ]
    },
    {
      "cell_type": "markdown",
      "source": [
        "#create spark session "
      ],
      "metadata": {
        "id": "hZ2WNUwQ57O7"
      }
    },
    {
      "cell_type": "code",
      "source": [
        "from pyspark.sql import SparkSession\n",
        "spark = SparkSession.builder.master(\"local[1]\").appName('write').getOrCreate()\n",
        "df1=spark.read.options(delimiter=\"|\").csv(\"/content/input1.csv\",inferSchema=True,header=True)\n",
        "df1.show()"
      ],
      "metadata": {
        "colab": {
          "base_uri": "https://localhost:8080/"
        },
        "id": "mLKbxATE5Ny6",
        "outputId": "859acbe1-d4e3-43f1-a88c-57018af6125f"
      },
      "execution_count": null,
      "outputs": [
        {
          "output_type": "stream",
          "name": "stdout",
          "text": [
            "+---+-------+---+------+\n",
            "| id|   name|sex|salary|\n",
            "+---+-------+---+------+\n",
            "|  1|    Tom|  M|   100|\n",
            "|  2|  Jenny|  F|   150|\n",
            "|  3| Andrew|  F|    50|\n",
            "|  4|Michael|  F|   120|\n",
            "|  5|   null|  F|   500|\n",
            "+---+-------+---+------+\n",
            "\n"
          ]
        }
      ]
    },
    {
      "cell_type": "markdown",
      "source": [
        "#filter on single record"
      ],
      "metadata": {
        "id": "cD5Bz2xx6tpm"
      }
    },
    {
      "cell_type": "code",
      "source": [
        "#filter on single column where sex=Male\n",
        "from pyspark.sql import functions as f\n",
        "df1.filter(f.col(\"sex\")==\"M\").show()"
      ],
      "metadata": {
        "colab": {
          "base_uri": "https://localhost:8080/"
        },
        "id": "sh2PSTu-6lOo",
        "outputId": "ac2ff49c-86dd-4b77-d55d-ebfeae1a77dc"
      },
      "execution_count": null,
      "outputs": [
        {
          "output_type": "stream",
          "name": "stdout",
          "text": [
            "+---+----+---+------+\n",
            "| id|name|sex|salary|\n",
            "+---+----+---+------+\n",
            "|  1| Tom|  M|   100|\n",
            "+---+----+---+------+\n",
            "\n"
          ]
        }
      ]
    },
    {
      "cell_type": "markdown",
      "source": [
        "#filter on multiple records"
      ],
      "metadata": {
        "id": "eppjwQgD7HdU"
      }
    },
    {
      "cell_type": "code",
      "source": [
        "#filter on multiple columns where sex=female&salary >=100\n",
        "df1.filter((f.col(\"sex\")==\"F\")&(f.col(\"salary\")>=100)).show()"
      ],
      "metadata": {
        "colab": {
          "base_uri": "https://localhost:8080/"
        },
        "id": "Dz1DxrDo7A96",
        "outputId": "c7bc039a-5b25-40d3-ce79-670c7acc9203"
      },
      "execution_count": null,
      "outputs": [
        {
          "output_type": "stream",
          "name": "stdout",
          "text": [
            "+---+-------+---+------+\n",
            "| id|   name|sex|salary|\n",
            "+---+-------+---+------+\n",
            "|  2|  Jenny|  F|   150|\n",
            "|  4|Michael|  F|   120|\n",
            "|  5|   null|  F|   500|\n",
            "+---+-------+---+------+\n",
            "\n"
          ]
        }
      ]
    },
    {
      "cell_type": "markdown",
      "source": [
        "#filter records based  on values of  list"
      ],
      "metadata": {
        "id": "DoUFQXo68LOB"
      }
    },
    {
      "cell_type": "code",
      "source": [
        "col_list=[\"Tom\",\"Michael\"]\n",
        "df1.filter(f.col(\"name\").isin(col_list)).show()"
      ],
      "metadata": {
        "colab": {
          "base_uri": "https://localhost:8080/"
        },
        "id": "gnnEQq3M77Vd",
        "outputId": "cec9cff6-6a97-4196-be9a-81d80cff70ad"
      },
      "execution_count": null,
      "outputs": [
        {
          "output_type": "stream",
          "name": "stdout",
          "text": [
            "+---+-------+---+------+\n",
            "| id|   name|sex|salary|\n",
            "+---+-------+---+------+\n",
            "|  1|    Tom|  M|   100|\n",
            "|  4|Michael|  F|   120|\n",
            "+---+-------+---+------+\n",
            "\n"
          ]
        }
      ]
    },
    {
      "cell_type": "markdown",
      "source": [
        "#filter records based on values not in list"
      ],
      "metadata": {
        "id": "e-0AfoX88uUS"
      }
    },
    {
      "cell_type": "code",
      "source": [
        "df1.filter(f.col(\"name\").isin(col_list)==\"False\").show()"
      ],
      "metadata": {
        "colab": {
          "base_uri": "https://localhost:8080/"
        },
        "id": "YjpCjxdA8kqF",
        "outputId": "a5172c93-e20f-4d5a-e529-6c9b08f6367a"
      },
      "execution_count": null,
      "outputs": [
        {
          "output_type": "stream",
          "name": "stdout",
          "text": [
            "+---+------+---+------+\n",
            "| id|  name|sex|salary|\n",
            "+---+------+---+------+\n",
            "|  2| Jenny|  F|   150|\n",
            "|  3|Andrew|  F|    50|\n",
            "+---+------+---+------+\n",
            "\n"
          ]
        }
      ]
    },
    {
      "cell_type": "markdown",
      "source": [
        "#filter records where name is null"
      ],
      "metadata": {
        "id": "dql4XXpc9IR_"
      }
    },
    {
      "cell_type": "code",
      "source": [
        "df1.filter(f.col(\"name\").isNull()).show()"
      ],
      "metadata": {
        "colab": {
          "base_uri": "https://localhost:8080/"
        },
        "id": "y5wtqxn59BaA",
        "outputId": "f0043d3d-c690-4e3a-d9cb-48fda027b7b1"
      },
      "execution_count": null,
      "outputs": [
        {
          "output_type": "stream",
          "name": "stdout",
          "text": [
            "+---+----+---+------+\n",
            "| id|name|sex|salary|\n",
            "+---+----+---+------+\n",
            "|  5|null|  F|   500|\n",
            "+---+----+---+------+\n",
            "\n"
          ]
        }
      ]
    },
    {
      "cell_type": "markdown",
      "source": [
        "#filter records where name is not null"
      ],
      "metadata": {
        "id": "f4nPvRK09sIr"
      }
    },
    {
      "cell_type": "code",
      "source": [
        "df1.filter(f.col(\"name\").isNotNull()).show()"
      ],
      "metadata": {
        "colab": {
          "base_uri": "https://localhost:8080/"
        },
        "id": "7fGiVDh-9ff4",
        "outputId": "d8edb4d6-143c-4d48-a678-3b7826ace99b"
      },
      "execution_count": null,
      "outputs": [
        {
          "output_type": "stream",
          "name": "stdout",
          "text": [
            "+---+-------+---+------+\n",
            "| id|   name|sex|salary|\n",
            "+---+-------+---+------+\n",
            "|  1|    Tom|  M|   100|\n",
            "|  2|  Jenny|  F|   150|\n",
            "|  3| Andrew|  F|    50|\n",
            "|  4|Michael|  F|   120|\n",
            "+---+-------+---+------+\n",
            "\n"
          ]
        }
      ]
    },
    {
      "cell_type": "code",
      "source": [
        "from pyspark.sql import SparkSession\n",
        "spark = SparkSession.builder.master(\"local[1]\").appName('write').getOrCreate()\n",
        "df=spark.read.csv(\"/content/input2.csv\",inferSchema=True,header=True)\n",
        "df.show()"
      ],
      "metadata": {
        "id": "H2os4zlw9q5n",
        "colab": {
          "base_uri": "https://localhost:8080/"
        },
        "outputId": "78105640-845f-4188-af03-f535990b06ad"
      },
      "execution_count": null,
      "outputs": [
        {
          "output_type": "stream",
          "name": "stdout",
          "text": [
            "+---+-------+---+------+\n",
            "| id|   name|sex|salary|\n",
            "+---+-------+---+------+\n",
            "|  1|    Tom|  M|   100|\n",
            "|  2|  Jenny|  F|   150|\n",
            "|  3| Andrew|  F|    50|\n",
            "|  4|Michael|  F|   120|\n",
            "|  5|   null|  F|   500|\n",
            "|  6|   Bill|  M|  null|\n",
            "+---+-------+---+------+\n",
            "\n"
          ]
        }
      ]
    },
    {
      "cell_type": "markdown",
      "source": [
        "#replae null value with default name as new_user"
      ],
      "metadata": {
        "id": "Msx-Ab7X_fqn"
      }
    },
    {
      "cell_type": "code",
      "source": [
        "df.fillna(value=\"New_user\",subset=[\"name\"]).show()"
      ],
      "metadata": {
        "colab": {
          "base_uri": "https://localhost:8080/"
        },
        "id": "zI7UubmF_TBc",
        "outputId": "5c8066b3-bb5c-4ee8-d20f-8fc123da9f21"
      },
      "execution_count": null,
      "outputs": [
        {
          "output_type": "stream",
          "name": "stdout",
          "text": [
            "+---+--------+---+------+\n",
            "| id|    name|sex|salary|\n",
            "+---+--------+---+------+\n",
            "|  1|     Tom|  M|   100|\n",
            "|  2|   Jenny|  F|   150|\n",
            "|  3|  Andrew|  F|    50|\n",
            "|  4| Michael|  F|   120|\n",
            "|  5|New_user|  F|   500|\n",
            "|  6|    Bill|  M|  null|\n",
            "+---+--------+---+------+\n",
            "\n"
          ]
        }
      ]
    },
    {
      "cell_type": "markdown",
      "source": [
        "#replace values in multiple columns"
      ],
      "metadata": {
        "id": "eU3R_UKVANSq"
      }
    },
    {
      "cell_type": "code",
      "source": [
        "df.fillna({\"name\":\"new_user\",\"salary\":250}).show()"
      ],
      "metadata": {
        "colab": {
          "base_uri": "https://localhost:8080/"
        },
        "id": "DJ_uuI3MABxs",
        "outputId": "06125095-191b-456f-aae6-b3f7869debb1"
      },
      "execution_count": null,
      "outputs": [
        {
          "output_type": "stream",
          "name": "stdout",
          "text": [
            "+---+--------+---+------+\n",
            "| id|    name|sex|salary|\n",
            "+---+--------+---+------+\n",
            "|  1|     Tom|  M|   100|\n",
            "|  2|   Jenny|  F|   150|\n",
            "|  3|  Andrew|  F|    50|\n",
            "|  4| Michael|  F|   120|\n",
            "|  5|new_user|  F|   500|\n",
            "|  6|    Bill|  M|   250|\n",
            "+---+--------+---+------+\n",
            "\n"
          ]
        }
      ]
    },
    {
      "cell_type": "code",
      "source": [
        "from pyspark.sql import SparkSession\n",
        "spark = SparkSession.builder.master(\"local[1]\").appName('write').getOrCreate()\n",
        "df=spark.read.csv(\"/content/input3.csv\",inferSchema=True,header=True)\n",
        "df.show()\n"
      ],
      "metadata": {
        "colab": {
          "base_uri": "https://localhost:8080/"
        },
        "id": "tXtHk46dAb3U",
        "outputId": "968e19e5-0b15-4cb7-da5a-491158024e8d"
      },
      "execution_count": null,
      "outputs": [
        {
          "output_type": "stream",
          "name": "stdout",
          "text": [
            "+---+-------+---+------+\n",
            "| id|   name|sex|salary|\n",
            "+---+-------+---+------+\n",
            "|  1|    Tom|  M|   100|\n",
            "|  1|    Tom|  M|   100|\n",
            "|  2|  Jenny|  F|   150|\n",
            "|  2|  Jenny|  F|    10|\n",
            "|  3| Andrew|  F|    50|\n",
            "|  4|Michael|  F|   120|\n",
            "|  5|   null|  F|   500|\n",
            "|  6|   Bill|  M|  null|\n",
            "+---+-------+---+------+\n",
            "\n"
          ]
        }
      ]
    },
    {
      "cell_type": "markdown",
      "source": [
        "#drop duplicate records"
      ],
      "metadata": {
        "id": "LFEulzEqBqzC"
      }
    },
    {
      "cell_type": "code",
      "source": [
        "df.drop_duplicates().show()"
      ],
      "metadata": {
        "colab": {
          "base_uri": "https://localhost:8080/"
        },
        "id": "FLJhlLsJBhpp",
        "outputId": "455ebd3a-32b9-4cdb-f220-7461ed2d4691"
      },
      "execution_count": null,
      "outputs": [
        {
          "output_type": "stream",
          "name": "stdout",
          "text": [
            "+---+-------+---+------+\n",
            "| id|   name|sex|salary|\n",
            "+---+-------+---+------+\n",
            "|  2|  Jenny|  F|   150|\n",
            "|  4|Michael|  F|   120|\n",
            "|  1|    Tom|  M|   100|\n",
            "|  6|   Bill|  M|  null|\n",
            "|  3| Andrew|  F|    50|\n",
            "|  5|   null|  F|   500|\n",
            "|  2|  Jenny|  F|    10|\n",
            "+---+-------+---+------+\n",
            "\n"
          ]
        }
      ]
    },
    {
      "cell_type": "markdown",
      "source": [
        "#drop duplicate records based on specific columns"
      ],
      "metadata": {
        "id": "gn6Mij52B53I"
      }
    },
    {
      "cell_type": "code",
      "source": [
        "df.drop_duplicates([\"id\",\"name\"]).show()"
      ],
      "metadata": {
        "colab": {
          "base_uri": "https://localhost:8080/"
        },
        "id": "5xsPxAXVBxqb",
        "outputId": "ee683707-d241-4366-a0f3-72cd48657fdc"
      },
      "execution_count": null,
      "outputs": [
        {
          "output_type": "stream",
          "name": "stdout",
          "text": [
            "+---+-------+---+------+\n",
            "| id|   name|sex|salary|\n",
            "+---+-------+---+------+\n",
            "|  1|    Tom|  M|   100|\n",
            "|  2|  Jenny|  F|   150|\n",
            "|  3| Andrew|  F|    50|\n",
            "|  4|Michael|  F|   120|\n",
            "|  5|   null|  F|   500|\n",
            "|  6|   Bill|  M|  null|\n",
            "+---+-------+---+------+\n",
            "\n"
          ]
        }
      ]
    },
    {
      "cell_type": "markdown",
      "source": [
        "#update value of a column (multiply salary by10)"
      ],
      "metadata": {
        "id": "VHPhay7XC9Pb"
      }
    },
    {
      "cell_type": "code",
      "source": [
        "df1.withColumn(\"salary\",f.col(\"salary\")*10).show()"
      ],
      "metadata": {
        "colab": {
          "base_uri": "https://localhost:8080/"
        },
        "id": "sFEgwiw6CJvF",
        "outputId": "39e13aaa-422a-4526-b864-ad2a06805cee"
      },
      "execution_count": null,
      "outputs": [
        {
          "output_type": "stream",
          "name": "stdout",
          "text": [
            "+---+-------+---+------+\n",
            "| id|   name|sex|salary|\n",
            "+---+-------+---+------+\n",
            "|  1|    Tom|  M|  1000|\n",
            "|  2|  Jenny|  F|  1500|\n",
            "|  3| Andrew|  F|   500|\n",
            "|  4|Michael|  F|  1200|\n",
            "|  5|   null|  F|  5000|\n",
            "+---+-------+---+------+\n",
            "\n"
          ]
        }
      ]
    },
    {
      "cell_type": "markdown",
      "source": [
        "#adding new column using existing column(uppercase to lowercase)"
      ],
      "metadata": {
        "id": "CLShOFJuDbq6"
      }
    },
    {
      "cell_type": "code",
      "source": [
        "df1.withColumn(\"name_upper\",f.upper(f.col(\"name\"))).show()"
      ],
      "metadata": {
        "colab": {
          "base_uri": "https://localhost:8080/"
        },
        "id": "5EB4HqmDDPQ3",
        "outputId": "6a78d209-7e29-4486-b4a0-c7624fc11def"
      },
      "execution_count": null,
      "outputs": [
        {
          "output_type": "stream",
          "name": "stdout",
          "text": [
            "+---+-------+---+------+----------+\n",
            "| id|   name|sex|salary|name_upper|\n",
            "+---+-------+---+------+----------+\n",
            "|  1|    Tom|  M|   100|       TOM|\n",
            "|  2|  Jenny|  F|   150|     JENNY|\n",
            "|  3| Andrew|  F|    50|    ANDREW|\n",
            "|  4|Michael|  F|   120|   MICHAEL|\n",
            "|  5|   null|  F|   500|      null|\n",
            "+---+-------+---+------+----------+\n",
            "\n"
          ]
        }
      ]
    },
    {
      "cell_type": "code",
      "source": [
        "df1.withColumn(\"name_lower\",f.lower(f.col(\"name\"))).show()"
      ],
      "metadata": {
        "colab": {
          "base_uri": "https://localhost:8080/"
        },
        "id": "VMauMhW-Dyyc",
        "outputId": "5e885d22-905c-48c6-fd41-9409f873394f"
      },
      "execution_count": null,
      "outputs": [
        {
          "output_type": "stream",
          "name": "stdout",
          "text": [
            "+---+-------+---+------+----------+\n",
            "| id|   name|sex|salary|name_lower|\n",
            "+---+-------+---+------+----------+\n",
            "|  1|    Tom|  M|   100|       tom|\n",
            "|  2|  Jenny|  F|   150|     jenny|\n",
            "|  3| Andrew|  F|    50|    andrew|\n",
            "|  4|Michael|  F|   120|   michael|\n",
            "|  5|   null|  F|   500|      null|\n",
            "+---+-------+---+------+----------+\n",
            "\n"
          ]
        }
      ]
    },
    {
      "cell_type": "markdown",
      "source": [
        "#adding new column using default value(add a departmnt column as technology)"
      ],
      "metadata": {
        "id": "BSguiusyENh6"
      }
    },
    {
      "cell_type": "code",
      "source": [
        "df1.withColumn(\"Departmnt\",f.lit(\"Technology\")).show()"
      ],
      "metadata": {
        "colab": {
          "base_uri": "https://localhost:8080/"
        },
        "id": "ehQrqYa-D7Xr",
        "outputId": "fee67668-70d5-417a-975e-132c905b67fd"
      },
      "execution_count": null,
      "outputs": [
        {
          "output_type": "stream",
          "name": "stdout",
          "text": [
            "+---+-------+---+------+----------+\n",
            "| id|   name|sex|salary| Departmnt|\n",
            "+---+-------+---+------+----------+\n",
            "|  1|    Tom|  M|   100|Technology|\n",
            "|  2|  Jenny|  F|   150|Technology|\n",
            "|  3| Andrew|  F|    50|Technology|\n",
            "|  4|Michael|  F|   120|Technology|\n",
            "|  5|   null|  F|   500|Technology|\n",
            "+---+-------+---+------+----------+\n",
            "\n"
          ]
        }
      ]
    },
    {
      "cell_type": "markdown",
      "source": [
        "#change dtype of the column"
      ],
      "metadata": {
        "id": "SV9IFe0pE8Gv"
      }
    },
    {
      "cell_type": "code",
      "source": [
        "df1.printSchema()"
      ],
      "metadata": {
        "colab": {
          "base_uri": "https://localhost:8080/"
        },
        "id": "CaQ32Wf1EvRQ",
        "outputId": "18973d06-be78-47ab-e314-c58f9132b9b5"
      },
      "execution_count": null,
      "outputs": [
        {
          "output_type": "stream",
          "name": "stdout",
          "text": [
            "root\n",
            " |-- id: integer (nullable = true)\n",
            " |-- name: string (nullable = true)\n",
            " |-- sex: string (nullable = true)\n",
            " |-- salary: integer (nullable = true)\n",
            "\n"
          ]
        }
      ]
    },
    {
      "cell_type": "markdown",
      "source": [
        "here noticed salary must be float but its showing as integer"
      ],
      "metadata": {
        "id": "1Q7nxN13FEFh"
      }
    },
    {
      "cell_type": "code",
      "source": [
        "from pyspark.sql.types import FloatType\n",
        "df1.withColumn(\"salary\",f.col(\"salary\").cast(FloatType())).printSchema()"
      ],
      "metadata": {
        "colab": {
          "base_uri": "https://localhost:8080/"
        },
        "id": "FNXuMSJwFBPH",
        "outputId": "6344d22a-edbd-4daf-e06d-700ec196bfad"
      },
      "execution_count": null,
      "outputs": [
        {
          "output_type": "stream",
          "name": "stdout",
          "text": [
            "root\n",
            " |-- id: integer (nullable = true)\n",
            " |-- name: string (nullable = true)\n",
            " |-- sex: string (nullable = true)\n",
            " |-- salary: float (nullable = true)\n",
            "\n"
          ]
        }
      ]
    },
    {
      "cell_type": "code",
      "source": [
        "from pyspark.sql import SparkSession\n",
        "spark = SparkSession.builder.master(\"local[1]\").appName('write').getOrCreate()\n",
        "df4=spark.read.csv(\"/content/input4.csv\",inferSchema=True,header=True)\n",
        "df4.show()"
      ],
      "metadata": {
        "colab": {
          "base_uri": "https://localhost:8080/"
        },
        "id": "dFSb6qHnF7AW",
        "outputId": "d55bb46b-3668-402f-9d44-e56a542fb2da"
      },
      "execution_count": null,
      "outputs": [
        {
          "output_type": "stream",
          "name": "stdout",
          "text": [
            "+---+-------+---+------+----------+\n",
            "| id|   name|sex|salary|Department|\n",
            "+---+-------+---+------+----------+\n",
            "|  1|    Tom|  M|   100|     sales|\n",
            "|  2|  Jenny|  F|   150|     sales|\n",
            "|  3| Andrew|  F|    50|     sales|\n",
            "|  4|Michael|  F|   120|        IT|\n",
            "|  5|Jasmine|  F|   500|        IT|\n",
            "|  6|   Bill|  M|   200|        IT|\n",
            "+---+-------+---+------+----------+\n",
            "\n"
          ]
        }
      ]
    },
    {
      "cell_type": "markdown",
      "source": [
        "#getting records from dataframe"
      ],
      "metadata": {
        "id": "-bSOyAlVG9OH"
      }
    },
    {
      "cell_type": "code",
      "source": [
        "df4.count()"
      ],
      "metadata": {
        "colab": {
          "base_uri": "https://localhost:8080/"
        },
        "id": "LTorSa2NG4tX",
        "outputId": "a47e92d1-51a9-42b3-9044-8850cac61eed"
      },
      "execution_count": null,
      "outputs": [
        {
          "output_type": "execute_result",
          "data": {
            "text/plain": [
              "6"
            ]
          },
          "metadata": {},
          "execution_count": 67
        }
      ]
    },
    {
      "cell_type": "markdown",
      "source": [
        "#getting sum of salary from dataframe"
      ],
      "metadata": {
        "id": "V1SKDVwQHNOm"
      }
    },
    {
      "cell_type": "code",
      "source": [
        "df4.select(f.sum(\"salary\").alias (\"total_Salary\")).show()"
      ],
      "metadata": {
        "colab": {
          "base_uri": "https://localhost:8080/"
        },
        "id": "Wa7exCN4HI57",
        "outputId": "576dcd29-602b-4b0e-b457-e3a8d38ef6b6"
      },
      "execution_count": null,
      "outputs": [
        {
          "output_type": "stream",
          "name": "stdout",
          "text": [
            "+------------+\n",
            "|total_Salary|\n",
            "+------------+\n",
            "|        1120|\n",
            "+------------+\n",
            "\n"
          ]
        }
      ]
    },
    {
      "cell_type": "markdown",
      "source": [
        "#getting max &min salary from dataframe"
      ],
      "metadata": {
        "id": "kL5zBYiyHryC"
      }
    },
    {
      "cell_type": "code",
      "source": [
        "df4.select(f.max(\"salary\").alias (\"Max_Salary\")).show()\n",
        "df4.select(f.min(\"salary\").alias (\"Min_Salary\")).show()"
      ],
      "metadata": {
        "colab": {
          "base_uri": "https://localhost:8080/"
        },
        "id": "0FuIn3lKHmn4",
        "outputId": "db0c017d-e2bd-48e8-f2cc-a53edbd7c325"
      },
      "execution_count": null,
      "outputs": [
        {
          "output_type": "stream",
          "name": "stdout",
          "text": [
            "+----------+\n",
            "|Max_Salary|\n",
            "+----------+\n",
            "|       500|\n",
            "+----------+\n",
            "\n",
            "+----------+\n",
            "|Min_Salary|\n",
            "+----------+\n",
            "|        50|\n",
            "+----------+\n",
            "\n"
          ]
        }
      ]
    },
    {
      "cell_type": "markdown",
      "source": [
        "#getting meansalary from dataframe"
      ],
      "metadata": {
        "id": "hXinJiWnH9gM"
      }
    },
    {
      "cell_type": "code",
      "source": [
        "df4.select(f.mean(\"salary\").alias (\"mean_Salary\")).show()"
      ],
      "metadata": {
        "colab": {
          "base_uri": "https://localhost:8080/"
        },
        "id": "wLd-lm9xH6EN",
        "outputId": "97b856e8-2004-44eb-a45d-b658088f901a"
      },
      "execution_count": null,
      "outputs": [
        {
          "output_type": "stream",
          "name": "stdout",
          "text": [
            "+------------------+\n",
            "|       mean_Salary|\n",
            "+------------------+\n",
            "|186.66666666666666|\n",
            "+------------------+\n",
            "\n"
          ]
        }
      ]
    },
    {
      "cell_type": "markdown",
      "source": [
        "#using multiple aggregate functions"
      ],
      "metadata": {
        "id": "nSC3L6beIN38"
      }
    },
    {
      "cell_type": "code",
      "source": [
        "df4.select(f.max(\"salary\").alias (\"Max_Salary\"),f.min(\"salary\").alias (\"Min_Salary\")).show()"
      ],
      "metadata": {
        "colab": {
          "base_uri": "https://localhost:8080/"
        },
        "id": "jjfZgLpiIHaH",
        "outputId": "0417166d-2336-4154-8aaf-d6c06ad3130f"
      },
      "execution_count": null,
      "outputs": [
        {
          "output_type": "stream",
          "name": "stdout",
          "text": [
            "+----------+----------+\n",
            "|Max_Salary|Min_Salary|\n",
            "+----------+----------+\n",
            "|       500|        50|\n",
            "+----------+----------+\n",
            "\n"
          ]
        }
      ]
    },
    {
      "cell_type": "markdown",
      "source": [
        "#getting aggregate salary by department"
      ],
      "metadata": {
        "id": "BfcaApKSIi8q"
      }
    },
    {
      "cell_type": "code",
      "source": [
        "df4.groupby(\"Department\").sum(\"salary\").show()"
      ],
      "metadata": {
        "colab": {
          "base_uri": "https://localhost:8080/"
        },
        "id": "8TpGKmxJIe0I",
        "outputId": "a5f65998-1990-453e-fe5a-9a1d490626e3"
      },
      "execution_count": null,
      "outputs": [
        {
          "output_type": "stream",
          "name": "stdout",
          "text": [
            "+----------+-----------+\n",
            "|Department|sum(salary)|\n",
            "+----------+-----------+\n",
            "|     sales|        300|\n",
            "|        IT|        820|\n",
            "+----------+-----------+\n",
            "\n"
          ]
        }
      ]
    },
    {
      "cell_type": "code",
      "source": [
        "df4.groupby(\"Department\").max(\"salary\").show()"
      ],
      "metadata": {
        "colab": {
          "base_uri": "https://localhost:8080/"
        },
        "id": "y_LzmTfeIukU",
        "outputId": "2a313db9-9edd-4ee3-a6c3-0b30f5ee1fd4"
      },
      "execution_count": null,
      "outputs": [
        {
          "output_type": "stream",
          "name": "stdout",
          "text": [
            "+----------+-----------+\n",
            "|Department|max(salary)|\n",
            "+----------+-----------+\n",
            "|     sales|        150|\n",
            "|        IT|        500|\n",
            "+----------+-----------+\n",
            "\n"
          ]
        }
      ]
    },
    {
      "cell_type": "code",
      "source": [
        "df.groupby(\"Department\").min(\"salary\").show()"
      ],
      "metadata": {
        "colab": {
          "base_uri": "https://localhost:8080/"
        },
        "id": "peLpU4-NI-F2",
        "outputId": "73b7748c-b090-4ad6-8a9e-5aaf7a7f4d53"
      },
      "execution_count": null,
      "outputs": [
        {
          "output_type": "stream",
          "name": "stdout",
          "text": [
            "+----------+-----------+\n",
            "|Department|min(salary)|\n",
            "+----------+-----------+\n",
            "|     sales|         50|\n",
            "|        IT|        120|\n",
            "+----------+-----------+\n",
            "\n"
          ]
        }
      ]
    },
    {
      "cell_type": "code",
      "source": [
        "df.groupby(\"Department\").mean(\"salary\").show()"
      ],
      "metadata": {
        "colab": {
          "base_uri": "https://localhost:8080/"
        },
        "id": "8xsz_DpaJCxq",
        "outputId": "42ca48ec-84fd-4dec-a74e-95223dd3029b"
      },
      "execution_count": null,
      "outputs": [
        {
          "output_type": "stream",
          "name": "stdout",
          "text": [
            "+----------+-----------------+\n",
            "|Department|      avg(salary)|\n",
            "+----------+-----------------+\n",
            "|     sales|            100.0|\n",
            "|        IT|273.3333333333333|\n",
            "+----------+-----------------+\n",
            "\n"
          ]
        }
      ]
    },
    {
      "cell_type": "markdown",
      "source": [
        "#groupby with multiple aggregate functions"
      ],
      "metadata": {
        "id": "eAzYH4XZJK6l"
      }
    },
    {
      "cell_type": "code",
      "source": [
        "(df.groupby(\"Department\").agg(f.sum(\"salary\").alias(\"total_salary\"),f.max(\"salary\").alias(\"max_Salary\")).show())"
      ],
      "metadata": {
        "colab": {
          "base_uri": "https://localhost:8080/"
        },
        "id": "ERWHC-MQJGTN",
        "outputId": "b3bb3bf5-b86e-43db-d434-bc92e5d1abe9"
      },
      "execution_count": null,
      "outputs": [
        {
          "output_type": "stream",
          "name": "stdout",
          "text": [
            "+----------+------------+----------+\n",
            "|Department|total_salary|max_Salary|\n",
            "+----------+------------+----------+\n",
            "|     sales|         300|       150|\n",
            "|        IT|         820|       500|\n",
            "+----------+------------+----------+\n",
            "\n"
          ]
        }
      ]
    },
    {
      "cell_type": "markdown",
      "source": [
        "#multiple column groupby "
      ],
      "metadata": {
        "id": "FRdy667CKOfx"
      }
    },
    {
      "cell_type": "code",
      "source": [
        "(df.groupby(\"Department\",\"sex\").agg(f.sum(\"salary\").alias(\"total_salary\"),f.max(\"salary\").alias(\"max_Salary\")).show())"
      ],
      "metadata": {
        "colab": {
          "base_uri": "https://localhost:8080/"
        },
        "id": "Yv6nfT7LJw_2",
        "outputId": "55ee9847-7b27-402b-9c0f-aaae903a2e48"
      },
      "execution_count": null,
      "outputs": [
        {
          "output_type": "stream",
          "name": "stdout",
          "text": [
            "+----------+---+------------+----------+\n",
            "|Department|sex|total_salary|max_Salary|\n",
            "+----------+---+------------+----------+\n",
            "|     sales|  F|         200|       150|\n",
            "|        IT|  M|         200|       200|\n",
            "|        IT|  F|         620|       500|\n",
            "|     sales|  M|         100|       100|\n",
            "+----------+---+------------+----------+\n",
            "\n"
          ]
        }
      ]
    },
    {
      "cell_type": "code",
      "source": [
        "from pyspark.sql import SparkSession\n",
        "spark = SparkSession.builder.master(\"local[1]\").appName('write').getOrCreate()\n",
        "dfs=spark.read.csv(\"/content/stars.csv\",inferSchema=True,header=True)\n",
        "dfs.show()"
      ],
      "metadata": {
        "colab": {
          "base_uri": "https://localhost:8080/"
        },
        "id": "M_8iuq3nKYQT",
        "outputId": "beaf69dd-0ee0-491a-ccea-9d9b497d49db"
      },
      "execution_count": null,
      "outputs": [
        {
          "output_type": "stream",
          "name": "stdout",
          "text": [
            "+---+----------+-------------------+-------+---------+\n",
            "| id|      name|               date|company|     city|\n",
            "+---+----------+-------------------+-------+---------+\n",
            "|  1|Tom Cruise|2016-04-01 00:00:00|    tcx|   mumbai|\n",
            "|  2|     Rajix|2016-04-01 00:00:00|    tcx|   mumbai|\n",
            "|  3|   Tamanna|2016-04-01 00:00:00|    tcx|   mumbai|\n",
            "|  3|   Tamanna|2017-12-01 00:00:00|    tcx|bangalore|\n",
            "|  2|     Rajix|2018-10-01 00:00:00|   infi|     pune|\n",
            "|  3|   Tamanna|2018-10-01 00:00:00|    tcx|    delhi|\n",
            "|  2|     Rajix|2018-12-01 00:00:00| lobant|     pune|\n",
            "|  1|Tom Cruise|2021-01-01 00:00:00| ractal|   mumbai|\n",
            "+---+----------+-------------------+-------+---------+\n",
            "\n"
          ]
        }
      ]
    },
    {
      "cell_type": "markdown",
      "source": [
        "#dropduplicates based on id&name(default method)"
      ],
      "metadata": {
        "id": "vCzEJ_aaNgtS"
      }
    },
    {
      "cell_type": "code",
      "source": [
        "dfs.drop_duplicates([\"id\",\"name\"]).show()"
      ],
      "metadata": {
        "colab": {
          "base_uri": "https://localhost:8080/"
        },
        "id": "dr6yESdNNc4y",
        "outputId": "d857d203-64bf-4e23-a41e-680a3b88b697"
      },
      "execution_count": null,
      "outputs": [
        {
          "output_type": "stream",
          "name": "stdout",
          "text": [
            "+---+----------+-------------------+-------+------+\n",
            "| id|      name|               date|company|  city|\n",
            "+---+----------+-------------------+-------+------+\n",
            "|  1|Tom Cruise|2016-04-01 00:00:00|    tcx|mumbai|\n",
            "|  2|     Rajix|2016-04-01 00:00:00|    tcx|mumbai|\n",
            "|  3|   Tamanna|2016-04-01 00:00:00|    tcx|mumbai|\n",
            "+---+----------+-------------------+-------+------+\n",
            "\n"
          ]
        }
      ]
    },
    {
      "cell_type": "markdown",
      "source": [
        "default method  will retain the first occurancerecord incase of duplicate records"
      ],
      "metadata": {
        "id": "60IX0STJN2dq"
      }
    }
  ]
}