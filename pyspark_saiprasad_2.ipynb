{
  "nbformat": 4,
  "nbformat_minor": 0,
  "metadata": {
    "colab": {
      "provenance": [],
      "collapsed_sections": []
    },
    "kernelspec": {
      "name": "python3",
      "display_name": "Python 3"
    },
    "language_info": {
      "name": "python"
    }
  },
  "cells": [
    {
      "cell_type": "code",
      "execution_count": null,
      "metadata": {
        "colab": {
          "base_uri": "https://localhost:8080/"
        },
        "id": "YWbDgdPrZP_7",
        "outputId": "2166eec0-8e25-49fb-d5ef-8ea99acef729"
      },
      "outputs": [
        {
          "output_type": "stream",
          "name": "stdout",
          "text": [
            "Looking in indexes: https://pypi.org/simple, https://us-python.pkg.dev/colab-wheels/public/simple/\n",
            "Collecting pyspark\n",
            "  Downloading pyspark-3.3.0.tar.gz (281.3 MB)\n",
            "\u001b[K     |████████████████████████████████| 281.3 MB 41 kB/s \n",
            "\u001b[?25hCollecting py4j==0.10.9.5\n",
            "  Downloading py4j-0.10.9.5-py2.py3-none-any.whl (199 kB)\n",
            "\u001b[K     |████████████████████████████████| 199 kB 43.3 MB/s \n",
            "\u001b[?25hBuilding wheels for collected packages: pyspark\n",
            "  Building wheel for pyspark (setup.py) ... \u001b[?25l\u001b[?25hdone\n",
            "  Created wheel for pyspark: filename=pyspark-3.3.0-py2.py3-none-any.whl size=281764026 sha256=561b0a155daaae3b9b832463988f29dfca90410efe6ef0cf3e615850d8a6a751\n",
            "  Stored in directory: /root/.cache/pip/wheels/7a/8e/1b/f73a52650d2e5f337708d9f6a1750d451a7349a867f928b885\n",
            "Successfully built pyspark\n",
            "Installing collected packages: py4j, pyspark\n",
            "Successfully installed py4j-0.10.9.5 pyspark-3.3.0\n"
          ]
        }
      ],
      "source": [
        "pip install pyspark"
      ]
    },
    {
      "cell_type": "code",
      "source": [
        "from pyspark.sql import SparkSession\n",
        "spark=SparkSession.builder.master(\"local[4]\").appName(\"technique\").getOrCreate()\n",
        "df_date=spark.read.csv(\"/content/date.csv\",header=True,inferSchema=True)\n",
        "df_date.show()"
      ],
      "metadata": {
        "colab": {
          "base_uri": "https://localhost:8080/"
        },
        "id": "ooH-nk2RanjG",
        "outputId": "abad3da5-7941-40d3-a575-786006e6e11a"
      },
      "execution_count": null,
      "outputs": [
        {
          "output_type": "stream",
          "name": "stdout",
          "text": [
            "+-------------------+\n",
            "|         input_date|\n",
            "+-------------------+\n",
            "|2021-12-18 16:20:08|\n",
            "+-------------------+\n",
            "\n"
          ]
        }
      ]
    },
    {
      "cell_type": "markdown",
      "source": [
        "#format date in pyspark"
      ],
      "metadata": {
        "id": "WL_HVE1wbbYF"
      }
    },
    {
      "cell_type": "code",
      "source": [
        "from pyspark.sql import functions as f\n",
        "(df_date.withColumn(\"to_date\",f.to_date(\"input_date\"))\n",
        ".withColumn(\"to_timestamp\",f.to_timestamp(\"input_date\"))\n",
        ".withColumn(\"dd/MM/yyyy\",f.date_format(\"input_date\",\"dd/MM/yyyy\"))\n",
        ".withColumn(\"dd/MMM/yyyy\",f.date_format(\"input_date\",\"dd/MMM/yyyy\"))\n",
        ".withColumn(\"day\",f.date_format(\"input_date\",\"E\")).show())"
      ],
      "metadata": {
        "colab": {
          "base_uri": "https://localhost:8080/"
        },
        "id": "FDwEWpiLbMfz",
        "outputId": "efc5ac30-7710-42fa-ac3c-12afd8cd4123"
      },
      "execution_count": null,
      "outputs": [
        {
          "output_type": "stream",
          "name": "stdout",
          "text": [
            "+-------------------+----------+-------------------+----------+-----------+---+\n",
            "|         input_date|   to_date|       to_timestamp|dd/MM/yyyy|dd/MMM/yyyy|day|\n",
            "+-------------------+----------+-------------------+----------+-----------+---+\n",
            "|2021-12-18 16:20:08|2021-12-18|2021-12-18 16:20:08|18/12/2021|18/Dec/2021|Sat|\n",
            "+-------------------+----------+-------------------+----------+-----------+---+\n",
            "\n"
          ]
        }
      ]
    },
    {
      "cell_type": "markdown",
      "source": [
        "#arithmetic operations on date"
      ],
      "metadata": {
        "id": "oOSzVBZrddmb"
      }
    },
    {
      "cell_type": "code",
      "source": [
        "(df_date.withColumn(\"to_date\",f.to_date(\"input_date\"))\n",
        ".withColumn(\"current_date\",f.current_date())\n",
        ".withColumn(\"datediff\",f.datediff(f.col(\"current_date\"),f.col(\"to_date\"))).show())"
      ],
      "metadata": {
        "colab": {
          "base_uri": "https://localhost:8080/"
        },
        "id": "SsK1g0mAcK3p",
        "outputId": "26080bbd-aa6a-44fb-d3b6-c93f7f7f4b0a"
      },
      "execution_count": null,
      "outputs": [
        {
          "output_type": "stream",
          "name": "stdout",
          "text": [
            "+-------------------+----------+------------+--------+\n",
            "|         input_date|   to_date|current_date|datediff|\n",
            "+-------------------+----------+------------+--------+\n",
            "|2021-12-18 16:20:08|2021-12-18|  2022-07-20|     214|\n",
            "+-------------------+----------+------------+--------+\n",
            "\n"
          ]
        }
      ]
    },
    {
      "cell_type": "code",
      "source": [
        "(df_date.withColumn(\"to_date\",f.to_date(\"input_date\"))\n",
        ".withColumn(\"current_date\",f.current_date())\n",
        ".withColumn(\"datediff\",f.datediff(f.col(\"current_date\"),f.col(\"to_date\")))\n",
        ".withColumn(\"curdateadd\",f.date_add(f.col(\"current_date\"),5))\n",
        ".withColumn(\"curdatesub\",f.date_sub(f.col(\"current_date\"),5)).show())"
      ],
      "metadata": {
        "colab": {
          "base_uri": "https://localhost:8080/"
        },
        "id": "0ICnx3dUduYT",
        "outputId": "793ef20d-6b4b-4379-94f9-dd2e9cf2af47"
      },
      "execution_count": null,
      "outputs": [
        {
          "output_type": "stream",
          "name": "stdout",
          "text": [
            "+-------------------+----------+------------+--------+----------+----------+\n",
            "|         input_date|   to_date|current_date|datediff|curdateadd|curdatesub|\n",
            "+-------------------+----------+------------+--------+----------+----------+\n",
            "|2021-12-18 16:20:08|2021-12-18|  2022-07-20|     214|2022-07-25|2022-07-15|\n",
            "+-------------------+----------+------------+--------+----------+----------+\n",
            "\n"
          ]
        }
      ]
    },
    {
      "cell_type": "markdown",
      "source": [
        "#extract date parts"
      ],
      "metadata": {
        "id": "ZfmVwMJLfq2h"
      }
    },
    {
      "cell_type": "code",
      "source": [
        "(df_date.withColumn(\"to_date\",f.to_date(\"input_date\"))\n",
        ".withColumn(\"year\",f.year(\"to_date\"))\n",
        ".withColumn(\"Quarter\",f.quarter(\"to_date\"))\n",
        ".withColumn(\"month\",f.month(\"to_date\"))\n",
        ".withColumn(\"week\",f.weekofyear(\"to_date\"))\n",
        ".withColumn(\"day\",f.dayofyear(\"to_date\"))\n",
        ".withColumn(\"dayofmonth\",f.dayofmonth(\"to_date\"))\n",
        ".withColumn(\"dayofweek\",f.dayofweek(\"to_date\")).show())"
      ],
      "metadata": {
        "colab": {
          "base_uri": "https://localhost:8080/"
        },
        "id": "Mr1P043pfVwv",
        "outputId": "9ddbd9b2-9500-429c-d827-75d291843b4d"
      },
      "execution_count": null,
      "outputs": [
        {
          "output_type": "stream",
          "name": "stdout",
          "text": [
            "+-------------------+----------+----+-------+-----+----+---+----------+---------+\n",
            "|         input_date|   to_date|year|Quarter|month|week|day|dayofmonth|dayofweek|\n",
            "+-------------------+----------+----+-------+-----+----+---+----------+---------+\n",
            "|2021-12-18 16:20:08|2021-12-18|2021|      4|   12|  50|352|        18|        7|\n",
            "+-------------------+----------+----+-------+-----+----+---+----------+---------+\n",
            "\n"
          ]
        }
      ]
    },
    {
      "cell_type": "markdown",
      "source": [
        "#extract time parts"
      ],
      "metadata": {
        "id": "GiPotbWShHaj"
      }
    },
    {
      "cell_type": "code",
      "source": [
        "(df_date.withColumn(\"to_timestamp\",f.to_timestamp(\"input_date\"))\n",
        ".withColumn(\"hour\",f.hour(\"input_date\"))\n",
        ".withColumn(\"min\",f.minute(\"input_date\"))\n",
        ".withColumn(\"second\",f.second(\"to_timestamp\"))).show()#or .withColumn(\"hour\",f.hour(\"input_date\"))"
      ],
      "metadata": {
        "colab": {
          "base_uri": "https://localhost:8080/"
        },
        "id": "MMi99oUygB_a",
        "outputId": "58481748-3f21-4f36-943d-f07195fe14c6"
      },
      "execution_count": null,
      "outputs": [
        {
          "output_type": "stream",
          "name": "stdout",
          "text": [
            "+-------------------+-------------------+----+---+------+\n",
            "|         input_date|       to_timestamp|hour|min|second|\n",
            "+-------------------+-------------------+----+---+------+\n",
            "|2021-12-18 16:20:08|2021-12-18 16:20:08|  16| 20|     8|\n",
            "+-------------------+-------------------+----+---+------+\n",
            "\n"
          ]
        }
      ]
    },
    {
      "cell_type": "markdown",
      "source": [
        "#window functions"
      ],
      "metadata": {
        "id": "0oy-qvgdjLIU"
      }
    },
    {
      "cell_type": "code",
      "source": [
        "from pyspark.sql import SparkSession\n",
        "spark=SparkSession.builder.master(\"local[4]\").appName(\"technique\").getOrCreate()\n",
        "df_cricket=spark.read.csv(\"/content/cricket.csv\",header=True,inferSchema=True)\n",
        "df_cricket.show()"
      ],
      "metadata": {
        "colab": {
          "base_uri": "https://localhost:8080/"
        },
        "id": "acClti6FhYfA",
        "outputId": "41f902ea-8ae1-464a-d366-8a7171126d13"
      },
      "execution_count": null,
      "outputs": [
        {
          "output_type": "stream",
          "name": "stdout",
          "text": [
            "+---+-------+-------+-----+\n",
            "| id|   name|country|score|\n",
            "+---+-------+-------+-----+\n",
            "|  1|  Rohit|  India|   80|\n",
            "|  2|  Virat|  India|   90|\n",
            "|  3|  Rahul|  India|   80|\n",
            "|  4|   Pant|  India|   60|\n",
            "|  5|  Gayle|     WI|   80|\n",
            "|  6|Pollard|     WI|   70|\n",
            "|  7|   Kane|     NZ|   85|\n",
            "|  8| Taylor|     NZ|   95|\n",
            "+---+-------+-------+-----+\n",
            "\n"
          ]
        }
      ]
    },
    {
      "cell_type": "markdown",
      "source": [
        "overall player,rownumber,ranknumber"
      ],
      "metadata": {
        "id": "curcfFVgjapP"
      }
    },
    {
      "cell_type": "markdown",
      "source": [
        "#create window for overall/entire data in descending order of score.."
      ],
      "metadata": {
        "id": "w3TYXbxCjgSK"
      }
    },
    {
      "cell_type": "code",
      "source": [
        "from pyspark.sql.window import Window\n",
        "full_window=Window.orderBy(f.desc(\"score\"))"
      ],
      "metadata": {
        "id": "s9rylT3XjQRs"
      },
      "execution_count": null,
      "outputs": []
    },
    {
      "cell_type": "code",
      "source": [
        "(df_cricket.withColumn(\"row_number\",f.row_number().over(full_window))\n",
        ".withColumn(\"rank\",f.rank().over(full_window))).withColumn(\"dense_rank\",f.dense_rank().over(full_window)).show()"
      ],
      "metadata": {
        "colab": {
          "base_uri": "https://localhost:8080/"
        },
        "id": "m-QKNCeIkABz",
        "outputId": "65e09eb6-5e55-4b26-d882-7ffcc0eda30d"
      },
      "execution_count": null,
      "outputs": [
        {
          "output_type": "stream",
          "name": "stdout",
          "text": [
            "+---+-------+-------+-----+----------+----+----------+\n",
            "| id|   name|country|score|row_number|rank|dense_rank|\n",
            "+---+-------+-------+-----+----------+----+----------+\n",
            "|  8| Taylor|     NZ|   95|         1|   1|         1|\n",
            "|  2|  Virat|  India|   90|         2|   2|         2|\n",
            "|  7|   Kane|     NZ|   85|         3|   3|         3|\n",
            "|  1|  Rohit|  India|   80|         4|   4|         4|\n",
            "|  3|  Rahul|  India|   80|         5|   4|         4|\n",
            "|  5|  Gayle|     WI|   80|         6|   4|         4|\n",
            "|  6|Pollard|     WI|   70|         7|   7|         5|\n",
            "|  4|   Pant|  India|   60|         8|   8|         6|\n",
            "+---+-------+-------+-----+----------+----+----------+\n",
            "\n"
          ]
        }
      ]
    },
    {
      "cell_type": "markdown",
      "source": [
        "Rank will skip number for same score(skipped 5&6)..\n",
        "dense_rank willnot skipped same score.."
      ],
      "metadata": {
        "id": "hNiiF_vglcXi"
      }
    },
    {
      "cell_type": "markdown",
      "source": [
        "#country wise players with row &rank,dense_rank"
      ],
      "metadata": {
        "id": "bjRUopjvl59o"
      }
    },
    {
      "cell_type": "code",
      "source": [
        "country=Window.partitionBy(\"country\").orderBy(f.desc(\"score\"))"
      ],
      "metadata": {
        "id": "QEwZqHNGkhQF"
      },
      "execution_count": null,
      "outputs": []
    },
    {
      "cell_type": "code",
      "source": [
        "(df_cricket.withColumn(\"row_number\",f.row_number().over(country))\n",
        ".withColumn(\"rank\",f.rank().over(country))).withColumn(\"dense_rank\",f.dense_rank().over(country)).show()"
      ],
      "metadata": {
        "colab": {
          "base_uri": "https://localhost:8080/"
        },
        "id": "Oqzj4v2lmQcd",
        "outputId": "cd4b45bf-1061-4c59-cfa1-825dca6b2a6a"
      },
      "execution_count": null,
      "outputs": [
        {
          "output_type": "stream",
          "name": "stdout",
          "text": [
            "+---+-------+-------+-----+----------+----+----------+\n",
            "| id|   name|country|score|row_number|rank|dense_rank|\n",
            "+---+-------+-------+-----+----------+----+----------+\n",
            "|  2|  Virat|  India|   90|         1|   1|         1|\n",
            "|  1|  Rohit|  India|   80|         2|   2|         2|\n",
            "|  3|  Rahul|  India|   80|         3|   2|         2|\n",
            "|  4|   Pant|  India|   60|         4|   4|         3|\n",
            "|  8| Taylor|     NZ|   95|         1|   1|         1|\n",
            "|  7|   Kane|     NZ|   85|         2|   2|         2|\n",
            "|  5|  Gayle|     WI|   80|         1|   1|         1|\n",
            "|  6|Pollard|     WI|   70|         2|   2|         2|\n",
            "+---+-------+-------+-----+----------+----+----------+\n",
            "\n"
          ]
        }
      ]
    },
    {
      "cell_type": "code",
      "source": [
        "from pyspark.sql import SparkSession\n",
        "spark=SparkSession.builder.master(\"local[4]\").appName(\"technique\").getOrCreate()\n",
        "df_array=spark.read.csv(\"/content/array.csv\",header=True,inferSchema=True)\n",
        "df_array.show()"
      ],
      "metadata": {
        "colab": {
          "base_uri": "https://localhost:8080/"
        },
        "id": "4gKaDxEQmfFZ",
        "outputId": "a6af62ad-e752-4f1c-ab3c-96c294a330a9"
      },
      "execution_count": null,
      "outputs": [
        {
          "output_type": "stream",
          "name": "stdout",
          "text": [
            "+-----+--------------------+\n",
            "| name|                data|\n",
            "+-----+--------------------+\n",
            "|  Tom|      10|40|20|10|30|\n",
            "|Jenny|100|800|200|100|3...|\n",
            "+-----+--------------------+\n",
            "\n"
          ]
        }
      ]
    },
    {
      "cell_type": "markdown",
      "source": [
        "#create a column as arraytype"
      ],
      "metadata": {
        "id": "RmrUJc3HnVsP"
      }
    },
    {
      "cell_type": "code",
      "source": [
        "dfA=df_array.withColumn(\"array_type\",f.split(\"data\",\"\\|\"))\n",
        "dfA.show(truncate=False)"
      ],
      "metadata": {
        "colab": {
          "base_uri": "https://localhost:8080/"
        },
        "id": "dd4tz53XnQMD",
        "outputId": "0974bc28-03d4-4fe5-ab29-f905883ee531"
      },
      "execution_count": null,
      "outputs": [
        {
          "output_type": "stream",
          "name": "stdout",
          "text": [
            "+-----+-------------------------------+----------------------------------------+\n",
            "|name |data                           |array_type                              |\n",
            "+-----+-------------------------------+----------------------------------------+\n",
            "|Tom  |10|40|20|10|30                 |[10, 40, 20, 10, 30]                    |\n",
            "|Jenny|100|800|200|100|300|200|500|300|[100, 800, 200, 100, 300, 200, 500, 300]|\n",
            "+-----+-------------------------------+----------------------------------------+\n",
            "\n"
          ]
        }
      ]
    },
    {
      "cell_type": "markdown",
      "source": [
        "#executions on array_type column\n",
        " "
      ],
      "metadata": {
        "id": "XOlGKJznn4de"
      }
    },
    {
      "cell_type": "markdown",
      "source": [
        "#1.size"
      ],
      "metadata": {
        "id": "XMI0kHJyoTVs"
      }
    },
    {
      "cell_type": "code",
      "source": [
        "dfA.withColumn(\"size\",f.size(\"array_type\")).select(\"name\",\"array_type\",\"size\").show(truncate=False)"
      ],
      "metadata": {
        "colab": {
          "base_uri": "https://localhost:8080/"
        },
        "id": "yLj7FZQknq7f",
        "outputId": "c54db845-105f-4ef6-ca24-5958a7c3f2a4"
      },
      "execution_count": null,
      "outputs": [
        {
          "output_type": "stream",
          "name": "stdout",
          "text": [
            "+-----+----------------------------------------+----+\n",
            "|name |array_type                              |size|\n",
            "+-----+----------------------------------------+----+\n",
            "|Tom  |[10, 40, 20, 10, 30]                    |5   |\n",
            "|Jenny|[100, 800, 200, 100, 300, 200, 500, 300]|8   |\n",
            "+-----+----------------------------------------+----+\n",
            "\n"
          ]
        }
      ]
    },
    {
      "cell_type": "markdown",
      "source": [
        "#2.array_min"
      ],
      "metadata": {
        "id": "1WobOA_bo8hP"
      }
    },
    {
      "cell_type": "code",
      "source": [
        "dfA.withColumn(\"array_min\",f.array_min(\"array_type\")).select(\"name\",\"array_type\",\"array_min\").show(truncate=False)"
      ],
      "metadata": {
        "colab": {
          "base_uri": "https://localhost:8080/"
        },
        "id": "vW_219JzosAs",
        "outputId": "ba956a14-671d-42b5-da39-0aacafdc0644"
      },
      "execution_count": null,
      "outputs": [
        {
          "output_type": "stream",
          "name": "stdout",
          "text": [
            "+-----+----------------------------------------+---------+\n",
            "|name |array_type                              |array_min|\n",
            "+-----+----------------------------------------+---------+\n",
            "|Tom  |[10, 40, 20, 10, 30]                    |10       |\n",
            "|Jenny|[100, 800, 200, 100, 300, 200, 500, 300]|100      |\n",
            "+-----+----------------------------------------+---------+\n",
            "\n"
          ]
        }
      ]
    },
    {
      "cell_type": "markdown",
      "source": [
        "#3.array_max"
      ],
      "metadata": {
        "id": "mBvDCgirpL9t"
      }
    },
    {
      "cell_type": "code",
      "source": [
        "dfA.withColumn(\"array_max\",f.array_max(\"array_type\")).select(\"name\",\"array_type\",\"array_max\").show(truncate=False)"
      ],
      "metadata": {
        "colab": {
          "base_uri": "https://localhost:8080/"
        },
        "id": "WXVu6ZuUpE7l",
        "outputId": "5e6a6cf4-1530-4370-b40d-c62aa1cc3c0f"
      },
      "execution_count": null,
      "outputs": [
        {
          "output_type": "stream",
          "name": "stdout",
          "text": [
            "+-----+----------------------------------------+---------+\n",
            "|name |array_type                              |array_max|\n",
            "+-----+----------------------------------------+---------+\n",
            "|Tom  |[10, 40, 20, 10, 30]                    |40       |\n",
            "|Jenny|[100, 800, 200, 100, 300, 200, 500, 300]|800      |\n",
            "+-----+----------------------------------------+---------+\n",
            "\n"
          ]
        }
      ]
    },
    {
      "cell_type": "markdown",
      "source": [
        "#4.element_at,array_contains,array_position"
      ],
      "metadata": {
        "id": "Iu7M9WhKpsBT"
      }
    },
    {
      "cell_type": "code",
      "source": [
        "(dfA.withColumn(\"element_at\",f.element_at(\"array_type\",2))\n",
        ".withColumn(\"array_contains\",f.array_contains(\"array_type\",\"200\")).select(\"name\",\"array_type\",\"element_at\",\"array_contains\")).show(truncate=False)\n",
        "#.withColumn(\"array_positions\",f.array_position(\"array_type\",\"300\")).select(\"name\",\"array_type\",\"element_at\",\"array_contains\",\"array_position\"))"
      ],
      "metadata": {
        "colab": {
          "base_uri": "https://localhost:8080/"
        },
        "id": "aynzP81XpU2u",
        "outputId": "b6fd910a-4991-422c-b781-a23d1ed5a24d"
      },
      "execution_count": null,
      "outputs": [
        {
          "output_type": "stream",
          "name": "stdout",
          "text": [
            "+-----+----------------------------------------+----------+--------------+\n",
            "|name |array_type                              |element_at|array_contains|\n",
            "+-----+----------------------------------------+----------+--------------+\n",
            "|Tom  |[10, 40, 20, 10, 30]                    |40        |false         |\n",
            "|Jenny|[100, 800, 200, 100, 300, 200, 500, 300]|800       |true          |\n",
            "+-----+----------------------------------------+----------+--------------+\n",
            "\n"
          ]
        }
      ]
    },
    {
      "cell_type": "markdown",
      "source": [
        "#5.Reverse arraycolumn"
      ],
      "metadata": {
        "id": "ELbmLY-5tD70"
      }
    },
    {
      "cell_type": "code",
      "source": [
        "dfA.withColumn(\"Reverse\",f.reverse(\"array_type\")).select(\"name\",\"array_type\",\"Reverse\").show(truncate=False)"
      ],
      "metadata": {
        "colab": {
          "base_uri": "https://localhost:8080/"
        },
        "id": "SSSDfnKasfjf",
        "outputId": "11a73296-c7a6-4188-a812-4c98f88d9160"
      },
      "execution_count": null,
      "outputs": [
        {
          "output_type": "stream",
          "name": "stdout",
          "text": [
            "+-----+----------------------------------------+----------------------------------------+\n",
            "|name |array_type                              |Reverse                                 |\n",
            "+-----+----------------------------------------+----------------------------------------+\n",
            "|Tom  |[10, 40, 20, 10, 30]                    |[30, 10, 20, 40, 10]                    |\n",
            "|Jenny|[100, 800, 200, 100, 300, 200, 500, 300]|[300, 500, 200, 300, 100, 200, 800, 100]|\n",
            "+-----+----------------------------------------+----------------------------------------+\n",
            "\n"
          ]
        }
      ]
    },
    {
      "cell_type": "markdown",
      "source": [
        "#6.Sorting array column"
      ],
      "metadata": {
        "id": "8udL5I6xtqYZ"
      }
    },
    {
      "cell_type": "code",
      "source": [
        "dfA.withColumn(\"Sort\",f.array_sort(\"array_type\")).select(\"name\",\"array_type\",\"Sort\").show(truncate=False)"
      ],
      "metadata": {
        "colab": {
          "base_uri": "https://localhost:8080/"
        },
        "id": "EBaVGX_6tYAl",
        "outputId": "146fba5b-a2e5-4ec4-8985-c8c983fb9a1d"
      },
      "execution_count": null,
      "outputs": [
        {
          "output_type": "stream",
          "name": "stdout",
          "text": [
            "+-----+----------------------------------------+----------------------------------------+\n",
            "|name |array_type                              |Sort                                    |\n",
            "+-----+----------------------------------------+----------------------------------------+\n",
            "|Tom  |[10, 40, 20, 10, 30]                    |[10, 10, 20, 30, 40]                    |\n",
            "|Jenny|[100, 800, 200, 100, 300, 200, 500, 300]|[100, 100, 200, 200, 300, 300, 500, 800]|\n",
            "+-----+----------------------------------------+----------------------------------------+\n",
            "\n"
          ]
        }
      ]
    },
    {
      "cell_type": "markdown",
      "source": [
        "#7.distinctelements in array_column"
      ],
      "metadata": {
        "id": "-3bdPDYbtyEd"
      }
    },
    {
      "cell_type": "code",
      "source": [
        "(dfA.withColumn(\"distinct\",f.array_distinct(\"array_type\")).select(\"name\",\"array_type\",\"distinct\")).show(truncate=False)"
      ],
      "metadata": {
        "colab": {
          "base_uri": "https://localhost:8080/"
        },
        "id": "6XKO3Pvztjnt",
        "outputId": "4a67f90d-f17f-43f4-f96f-ee70c31d9668"
      },
      "execution_count": null,
      "outputs": [
        {
          "output_type": "stream",
          "name": "stdout",
          "text": [
            "+-----+----------------------------------------+-------------------------+\n",
            "|name |array_type                              |distinct                 |\n",
            "+-----+----------------------------------------+-------------------------+\n",
            "|Tom  |[10, 40, 20, 10, 30]                    |[10, 40, 20, 30]         |\n",
            "|Jenny|[100, 800, 200, 100, 300, 200, 500, 300]|[100, 800, 200, 300, 500]|\n",
            "+-----+----------------------------------------+-------------------------+\n",
            "\n"
          ]
        }
      ]
    },
    {
      "cell_type": "markdown",
      "source": [
        "#8.join elements"
      ],
      "metadata": {
        "id": "tts6QGFMufzN"
      }
    },
    {
      "cell_type": "code",
      "source": [
        "dfA.withColumn(\"joins\",f.array_join(\"array_type\",\"--\")).select(\"name\",\"array_type\",\"joins\").show(truncate=False)"
      ],
      "metadata": {
        "colab": {
          "base_uri": "https://localhost:8080/"
        },
        "id": "niCDvSYPt_gj",
        "outputId": "82bb1c76-8d59-473d-b342-275cdaab05f0"
      },
      "execution_count": null,
      "outputs": [
        {
          "output_type": "stream",
          "name": "stdout",
          "text": [
            "+-----+----------------------------------------+--------------------------------------+\n",
            "|name |array_type                              |joins                                 |\n",
            "+-----+----------------------------------------+--------------------------------------+\n",
            "|Tom  |[10, 40, 20, 10, 30]                    |10--40--20--10--30                    |\n",
            "|Jenny|[100, 800, 200, 100, 300, 200, 500, 300]|100--800--200--100--300--200--500--300|\n",
            "+-----+----------------------------------------+--------------------------------------+\n",
            "\n"
          ]
        }
      ]
    },
    {
      "cell_type": "markdown",
      "source": [
        "#9.explode array elements into records"
      ],
      "metadata": {
        "id": "AbTbqTnYvDlG"
      }
    },
    {
      "cell_type": "code",
      "source": [
        "dfA.withColumn(\"Explode\",f.explode(\"array_type\")).select(\"name\",\"array_type\",\"Explode\").show(truncate=False)"
      ],
      "metadata": {
        "colab": {
          "base_uri": "https://localhost:8080/"
        },
        "id": "yxv7nUxHu7ij",
        "outputId": "64cde6cb-82cd-42f4-ebe6-7e871877edf0"
      },
      "execution_count": null,
      "outputs": [
        {
          "output_type": "stream",
          "name": "stdout",
          "text": [
            "+-----+----------------------------------------+-------+\n",
            "|name |array_type                              |Explode|\n",
            "+-----+----------------------------------------+-------+\n",
            "|Tom  |[10, 40, 20, 10, 30]                    |10     |\n",
            "|Tom  |[10, 40, 20, 10, 30]                    |40     |\n",
            "|Tom  |[10, 40, 20, 10, 30]                    |20     |\n",
            "|Tom  |[10, 40, 20, 10, 30]                    |10     |\n",
            "|Tom  |[10, 40, 20, 10, 30]                    |30     |\n",
            "|Jenny|[100, 800, 200, 100, 300, 200, 500, 300]|100    |\n",
            "|Jenny|[100, 800, 200, 100, 300, 200, 500, 300]|800    |\n",
            "|Jenny|[100, 800, 200, 100, 300, 200, 500, 300]|200    |\n",
            "|Jenny|[100, 800, 200, 100, 300, 200, 500, 300]|100    |\n",
            "|Jenny|[100, 800, 200, 100, 300, 200, 500, 300]|300    |\n",
            "|Jenny|[100, 800, 200, 100, 300, 200, 500, 300]|200    |\n",
            "|Jenny|[100, 800, 200, 100, 300, 200, 500, 300]|500    |\n",
            "|Jenny|[100, 800, 200, 100, 300, 200, 500, 300]|300    |\n",
            "+-----+----------------------------------------+-------+\n",
            "\n"
          ]
        }
      ]
    },
    {
      "cell_type": "code",
      "source": [
        "from pyspark.sql import SparkSession\n",
        "spark=SparkSession.builder.master(\"local[4]\").appName(\"technique\").getOrCreate()\n",
        "df_s=spark.read.csv(\"/content/string.csv\",header=True,inferSchema=True)\n",
        "df_s.show(truncate=False)"
      ],
      "metadata": {
        "colab": {
          "base_uri": "https://localhost:8080/"
        },
        "id": "SMHdwQKwvTyS",
        "outputId": "fc961b14-c7f3-427b-dc54-53ded1a490ea"
      },
      "execution_count": null,
      "outputs": [
        {
          "output_type": "stream",
          "name": "stdout",
          "text": [
            "+---+-----+---------------------------+\n",
            "|id |code |description                |\n",
            "+---+-----+---------------------------+\n",
            "|1  |AXD  |       Wide  voltage  range|\n",
            "|2  |EM   |   Full  ISI compliance    |\n",
            "|3  |OUEWS|HIGH efficiency            |\n",
            "|4  |NHD  |Lightning proof            |\n",
            "|5  |LEJ  |     Weather proof         |\n",
            "+---+-----+---------------------------+\n",
            "\n"
          ]
        }
      ]
    },
    {
      "cell_type": "markdown",
      "source": [
        "#Find the length of string"
      ],
      "metadata": {
        "id": "YgmmahilwWgx"
      }
    },
    {
      "cell_type": "code",
      "source": [
        "df_s.withColumn(\"length\",f.length(\"description\")).select(\"id\",\"description\",\"length\").show(truncate=False)"
      ],
      "metadata": {
        "colab": {
          "base_uri": "https://localhost:8080/"
        },
        "id": "nUh7Sgs6wPyw",
        "outputId": "96006843-2640-47a6-e273-857f3828f26c"
      },
      "execution_count": null,
      "outputs": [
        {
          "output_type": "stream",
          "name": "stdout",
          "text": [
            "+---+---------------------------+------+\n",
            "|id |description                |length|\n",
            "+---+---------------------------+------+\n",
            "|1  |       Wide  voltage  range|27    |\n",
            "|2  |   Full  ISI compliance    |23    |\n",
            "|3  |HIGH efficiency            |15    |\n",
            "|4  |Lightning proof            |15    |\n",
            "|5  |     Weather proof         |18    |\n",
            "+---+---------------------------+------+\n",
            "\n"
          ]
        }
      ]
    },
    {
      "cell_type": "markdown",
      "source": [
        "#case conversion ofstring"
      ],
      "metadata": {
        "id": "NfyM-T0lw0ja"
      }
    },
    {
      "cell_type": "code",
      "source": [
        "df_s.withColumn(\"upper\",f.upper(\"description\")).withColumn(\"lower\",f.lower(\"description\")).withColumn(\"initcap\",f.initcap(\"description\")).select(\"id\",\"description\",\"upper\",\"lower\",\"initcap\").show(truncate=False)"
      ],
      "metadata": {
        "colab": {
          "base_uri": "https://localhost:8080/"
        },
        "id": "kBJXyXY7wsC_",
        "outputId": "6d300853-d6c2-4156-9722-06ef9a668ccb"
      },
      "execution_count": null,
      "outputs": [
        {
          "output_type": "stream",
          "name": "stdout",
          "text": [
            "+---+---------------------------+---------------------------+---------------------------+---------------------------+\n",
            "|id |description                |upper                      |lower                      |initcap                    |\n",
            "+---+---------------------------+---------------------------+---------------------------+---------------------------+\n",
            "|1  |       Wide  voltage  range|       WIDE  VOLTAGE  RANGE|       wide  voltage  range|       Wide  Voltage  Range|\n",
            "|2  |   Full  ISI compliance    |   FULL  ISI COMPLIANCE    |   full  isi compliance    |   Full  Isi Compliance    |\n",
            "|3  |HIGH efficiency            |HIGH EFFICIENCY            |high efficiency            |High Efficiency            |\n",
            "|4  |Lightning proof            |LIGHTNING PROOF            |lightning proof            |Lightning Proof            |\n",
            "|5  |     Weather proof         |     WEATHER PROOF         |     weather proof         |     Weather Proof         |\n",
            "+---+---------------------------+---------------------------+---------------------------+---------------------------+\n",
            "\n"
          ]
        }
      ]
    },
    {
      "cell_type": "markdown",
      "source": [
        "#remove whitespaces"
      ],
      "metadata": {
        "id": "rwpTxWBPxpyq"
      }
    },
    {
      "cell_type": "code",
      "source": [
        "df_s.withColumn(\"ltrim\",f.ltrim(\"description\")).withColumn(\"rtrim\",f.rtrim(\"description\")).withColumn(\"trim\",f.trim(\"description\")).select(\"id\",\"description\",\"rtrim\",\"ltrim\",\"trim\").show(truncate=False)"
      ],
      "metadata": {
        "colab": {
          "base_uri": "https://localhost:8080/"
        },
        "id": "FafQRHZbw_uH",
        "outputId": "3a254c38-ffa0-44e8-a756-547f8243b160"
      },
      "execution_count": null,
      "outputs": [
        {
          "output_type": "stream",
          "name": "stdout",
          "text": [
            "+---+---------------------------+---------------------------+--------------------+--------------------+\n",
            "|id |description                |rtrim                      |ltrim               |trim                |\n",
            "+---+---------------------------+---------------------------+--------------------+--------------------+\n",
            "|1  |       Wide  voltage  range|       Wide  voltage  range|Wide  voltage  range|Wide  voltage  range|\n",
            "|2  |   Full  ISI compliance    |   Full  ISI compliance    |Full  ISI compliance|Full  ISI compliance|\n",
            "|3  |HIGH efficiency            |HIGH efficiency            |HIGH efficiency     |HIGH efficiency     |\n",
            "|4  |Lightning proof            |Lightning proof            |Lightning proof     |Lightning proof     |\n",
            "|5  |     Weather proof         |     Weather proof         |Weather proof       |Weather proof       |\n",
            "+---+---------------------------+---------------------------+--------------------+--------------------+\n",
            "\n"
          ]
        }
      ]
    },
    {
      "cell_type": "markdown",
      "source": [
        "#find the location of substring in string"
      ],
      "metadata": {
        "id": "r7b8mvjXyOFY"
      }
    },
    {
      "cell_type": "code",
      "source": [
        "df_s.withColumn(\"locate\",f.locate(\"proof\",\"description\")).show(truncate=False)"
      ],
      "metadata": {
        "colab": {
          "base_uri": "https://localhost:8080/"
        },
        "id": "Ngef8v19yHDU",
        "outputId": "defbcb55-817f-444a-e126-5158afb203aa"
      },
      "execution_count": null,
      "outputs": [
        {
          "output_type": "stream",
          "name": "stdout",
          "text": [
            "+---+-----+---------------------------+------+\n",
            "|id |code |description                |locate|\n",
            "+---+-----+---------------------------+------+\n",
            "|1  |AXD  |       Wide  voltage  range|0     |\n",
            "|2  |EM   |   Full  ISI compliance    |0     |\n",
            "|3  |OUEWS|HIGH efficiency            |0     |\n",
            "|4  |NHD  |Lightning proof            |11    |\n",
            "|5  |LEJ  |     Weather proof         |14    |\n",
            "+---+-----+---------------------------+------+\n",
            "\n"
          ]
        }
      ]
    },
    {
      "cell_type": "markdown",
      "source": [
        "#getting substring\n"
      ],
      "metadata": {
        "id": "yqSof-Lxy2bl"
      }
    },
    {
      "cell_type": "code",
      "source": [
        "df_s.withColumn(\"substring\",f.substring(\"description\",5,10)).show(truncate=False)#col,pos,len"
      ],
      "metadata": {
        "colab": {
          "base_uri": "https://localhost:8080/"
        },
        "id": "jOxh8oQhymSk",
        "outputId": "ced8390f-f883-44f1-a480-926782bf903e"
      },
      "execution_count": null,
      "outputs": [
        {
          "output_type": "stream",
          "name": "stdout",
          "text": [
            "+---+-----+---------------------------+----------+\n",
            "|id |code |description                |substring |\n",
            "+---+-----+---------------------------+----------+\n",
            "|1  |AXD  |       Wide  voltage  range|   Wide  v|\n",
            "|2  |EM   |   Full  ISI compliance    |ull  ISI c|\n",
            "|3  |OUEWS|HIGH efficiency            | efficienc|\n",
            "|4  |NHD  |Lightning proof            |tning proo|\n",
            "|5  |LEJ  |     Weather proof         | Weather p|\n",
            "+---+-----+---------------------------+----------+\n",
            "\n"
          ]
        }
      ]
    },
    {
      "cell_type": "markdown",
      "source": [
        "#replace substring"
      ],
      "metadata": {
        "id": "joJVEEZYzexw"
      }
    },
    {
      "cell_type": "code",
      "source": [
        "df_s.withColumn(\"replace_exp\",f.regexp_replace(\"description\",\"proof\",\"hello\")).show(truncate=False)"
      ],
      "metadata": {
        "colab": {
          "base_uri": "https://localhost:8080/"
        },
        "id": "al9KrFrwy-Gr",
        "outputId": "cd72a510-bfe4-426c-be11-a0eed69c1972"
      },
      "execution_count": null,
      "outputs": [
        {
          "output_type": "stream",
          "name": "stdout",
          "text": [
            "+---+-----+---------------------------+---------------------------+\n",
            "|id |code |description                |replace_exp                |\n",
            "+---+-----+---------------------------+---------------------------+\n",
            "|1  |AXD  |       Wide  voltage  range|       Wide  voltage  range|\n",
            "|2  |EM   |   Full  ISI compliance    |   Full  ISI compliance    |\n",
            "|3  |OUEWS|HIGH efficiency            |HIGH efficiency            |\n",
            "|4  |NHD  |Lightning proof            |Lightning hello            |\n",
            "|5  |LEJ  |     Weather proof         |     Weather hello         |\n",
            "+---+-----+---------------------------+---------------------------+\n",
            "\n"
          ]
        }
      ]
    },
    {
      "cell_type": "markdown",
      "source": [
        "#covert string into fixedlen (padding)"
      ],
      "metadata": {
        "id": "WVYxuk9oz_Et"
      }
    },
    {
      "cell_type": "code",
      "source": [
        "df_s.withColumn(\"rpad\",f.rpad(\"code\",5,\"$\")).withColumn(\"lpad\",f.lpad(\"code\",10,\"#\")).select(\"code\",\"rpad\",\"lpad\").show(truncate=False)"
      ],
      "metadata": {
        "colab": {
          "base_uri": "https://localhost:8080/"
        },
        "id": "dUnQaXDhzx7w",
        "outputId": "2216259c-3a73-4c4f-e4e7-b63e8dd2dd30"
      },
      "execution_count": null,
      "outputs": [
        {
          "output_type": "stream",
          "name": "stdout",
          "text": [
            "+-----+-----+----------+\n",
            "|code |rpad |lpad      |\n",
            "+-----+-----+----------+\n",
            "|AXD  |AXD$$|#######AXD|\n",
            "|EM   |EM$$$|########EM|\n",
            "|OUEWS|OUEWS|#####OUEWS|\n",
            "|NHD  |NHD$$|#######NHD|\n",
            "|LEJ  |LEJ$$|#######LEJ|\n",
            "+-----+-----+----------+\n",
            "\n"
          ]
        }
      ]
    },
    {
      "cell_type": "code",
      "source": [
        "from pyspark.sql import SparkSession\n",
        "spark=SparkSession.builder.master(\"local[4]\").appName(\"technique\").getOrCreate()\n",
        "dfu=spark.read.csv(\"/content/udf_input.csv\",header=True,inferSchema=True)\n",
        "dfu.show(truncate=False)"
      ],
      "metadata": {
        "colab": {
          "base_uri": "https://localhost:8080/"
        },
        "id": "JaSpGVMP0h32",
        "outputId": "5492f58b-587b-4cbc-c0bb-3794891b1e0c"
      },
      "execution_count": null,
      "outputs": [
        {
          "output_type": "stream",
          "name": "stdout",
          "text": [
            "+---+-------+--------+\n",
            "|id |name   |order   |\n",
            "+---+-------+--------+\n",
            "|1  |Tom    |T-shirt |\n",
            "|2  |Jenny  |shoes   |\n",
            "|3  |Andrew |Grocery |\n",
            "|4  |Michael|Book    |\n",
            "|5  |Jasmine|keyboard|\n",
            "+---+-------+--------+\n",
            "\n"
          ]
        }
      ]
    },
    {
      "cell_type": "markdown",
      "source": [
        "#user defined functions"
      ],
      "metadata": {
        "id": "mzYTD2V51re9"
      }
    },
    {
      "cell_type": "code",
      "source": [
        "def display_msg(name,order):\n",
        "                msg=f\"\"\"Hello {name}, your order {order} will be delivered today.\"\"\"\n",
        "                return msg"
      ],
      "metadata": {
        "id": "bexdDXg21iJH"
      },
      "execution_count": null,
      "outputs": []
    },
    {
      "cell_type": "code",
      "source": [
        "print(display_msg(\"sai\",\"watch\"))"
      ],
      "metadata": {
        "colab": {
          "base_uri": "https://localhost:8080/"
        },
        "id": "_Ix-UQd22K5o",
        "outputId": "bf3c2968-d00c-45c6-a63d-d9aec318a990"
      },
      "execution_count": null,
      "outputs": [
        {
          "output_type": "stream",
          "name": "stdout",
          "text": [
            "Hello sai, your order watch will be delivered today.\n"
          ]
        }
      ]
    },
    {
      "cell_type": "code",
      "source": [
        "udf_display_msg=f.udf(display_msg)"
      ],
      "metadata": {
        "id": "ULJFGnU02TOm"
      },
      "execution_count": null,
      "outputs": []
    },
    {
      "cell_type": "code",
      "source": [
        "(dfu.withColumn(\"message\",udf_display_msg(f.col('name'),f.col(\"order\"))).show(truncate=False))"
      ],
      "metadata": {
        "colab": {
          "base_uri": "https://localhost:8080/"
        },
        "id": "jUqd98K42fqM",
        "outputId": "0180de09-c5f3-40b2-f81c-3c51087dc029"
      },
      "execution_count": null,
      "outputs": [
        {
          "output_type": "stream",
          "name": "stdout",
          "text": [
            "+---+-------+--------+-----------------------------------------------------------+\n",
            "|id |name   |order   |message                                                    |\n",
            "+---+-------+--------+-----------------------------------------------------------+\n",
            "|1  |Tom    |T-shirt |Hello Tom, your order T-shirt will be delivered today.     |\n",
            "|2  |Jenny  |shoes   |Hello Jenny, your order shoes will be delivered today.     |\n",
            "|3  |Andrew |Grocery |Hello Andrew, your order Grocery will be delivered today.  |\n",
            "|4  |Michael|Book    |Hello Michael, your order Book will be delivered today.    |\n",
            "|5  |Jasmine|keyboard|Hello Jasmine, your order keyboard will be delivered today.|\n",
            "+---+-------+--------+-----------------------------------------------------------+\n",
            "\n"
          ]
        }
      ]
    },
    {
      "cell_type": "code",
      "source": [
        "\n"
      ],
      "metadata": {
        "id": "-02K5tnn3AGx"
      },
      "execution_count": null,
      "outputs": []
    }
  ]
}